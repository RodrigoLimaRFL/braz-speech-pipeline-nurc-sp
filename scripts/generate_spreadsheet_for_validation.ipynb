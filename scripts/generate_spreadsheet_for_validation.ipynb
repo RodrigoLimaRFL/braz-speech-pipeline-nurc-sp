{
 "cells": [
  {
   "cell_type": "code",
   "execution_count": 2,
   "metadata": {},
   "outputs": [],
   "source": [
    "from src.utils.database import Database"
   ]
  },
  {
   "cell_type": "code",
   "execution_count": 66,
   "metadata": {},
   "outputs": [],
   "source": [
    "import pandas as pd\n",
    "import random\n",
    "\n",
    "def random_unique_integers(start, end, count):\n",
    "    if count > (end - start + 1):\n",
    "        raise ValueError(\"Count must be less than or equal to the range size.\")\n",
    "    \n",
    "    return random.sample(range(start, end + 1), count)\n",
    "\n",
    "output = []\n",
    "with Database() as db:\n",
    "    users = db._run_query(\"\"\"\n",
    "        SELECT\n",
    "            id, username, designated_corpus_id\n",
    "        FROM \n",
    "            users \n",
    "        WHERE \n",
    "            designated_corpus_id is not null\n",
    "    \"\"\")\n",
    "    for _, user in users.iterrows():\n",
    "        last_audios = db._run_query(f\"\"\"\n",
    "            SELECT\n",
    "                *\n",
    "            FROM \n",
    "                Audio\n",
    "            WHERE\n",
    "                responsible_user_id = {user.id}\n",
    "            ORDER BY\n",
    "                id DESC\n",
    "            LIMIT\n",
    "                3\n",
    "        \"\"\")\n",
    "        if not last_audios.empty:\n",
    "            max_segment_num = None\n",
    "            i = 0\n",
    "            while max_segment_num is None and i != 3 :\n",
    "                total_segments_transcribed = db._run_query(f\"\"\"\n",
    "                    SELECT\n",
    "                        MAX(segment_num) as max_segment\n",
    "                    FROM \n",
    "                        Dataset\n",
    "                    WHERE\n",
    "                        audio_id = {last_audios.id[i]} and text is not null\n",
    "                \"\"\")\n",
    "                max_segment_num = total_segments_transcribed.max_segment[0]\n",
    "                i += 1\n",
    "            segment_numbers = random_unique_integers(1, max_segment_num, 5)\n",
    "\n",
    "            \n",
    "            # Join the list of integers as a comma-separated string\n",
    "            id_list_str = \", \".join(map(str, segment_numbers))\n",
    "\n",
    "            # Generating the SQL query\n",
    "            sql_query = f\"SELECT * FROM Dataset WHERE audio_id = {last_audios.id[0]} and segment_num IN ({id_list_str}) and text != '###'\"\n",
    "            \n",
    "            segments = db._run_query(sql_query)\n",
    "            for _, segment in segments.iterrows():\n",
    "                output.append({\n",
    "                    \"username\": user.username,\n",
    "                    \"corpus\": \"mupe\" if user.designated_corpus_id == 1 else \"nurc\",\n",
    "                    \"audio\": last_audios.name[i-1],\n",
    "                    \"segment_num\": f\"{segment.segment_num}/{max_segment_num}\",\n",
    "                    \"duration\": segment.duration,\n",
    "                    \"text_asr\": segment.text_asr,\n",
    "                    \"transcription\": segment.text,\n",
    "                    \"link\": \"http://143.107.183.175:14888/static/Dataset/\" + segment.file_path\n",
    "                })"
   ]
  },
  {
   "cell_type": "code",
   "execution_count": 67,
   "metadata": {},
   "outputs": [],
   "source": [
    "output_df = pd.DataFrame(output)"
   ]
  },
  {
   "cell_type": "code",
   "execution_count": 68,
   "metadata": {},
   "outputs": [],
   "source": [
    "output_df.to_excel(\"Segmentos para análise sem inválidos.xlsx\", index=False)"
   ]
  }
 ],
 "metadata": {
  "kernelspec": {
   "display_name": "venv",
   "language": "python",
   "name": "python3"
  },
  "language_info": {
   "codemirror_mode": {
    "name": "ipython",
    "version": 3
   },
   "file_extension": ".py",
   "mimetype": "text/x-python",
   "name": "python",
   "nbconvert_exporter": "python",
   "pygments_lexer": "ipython3",
   "version": "3.11.3"
  },
  "orig_nbformat": 4
 },
 "nbformat": 4,
 "nbformat_minor": 2
}
